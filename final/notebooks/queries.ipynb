{
 "cells": [
  {
   "cell_type": "markdown",
   "id": "1bb85829",
   "metadata": {},
   "source": [
    "## CONSULTAS NO DATASET"
   ]
  },
  {
   "cell_type": "code",
   "execution_count": 1,
   "id": "c07d67aa",
   "metadata": {},
   "outputs": [],
   "source": [
    "%defaultDatasource jdbc:h2:mem:db"
   ]
  },
  {
   "cell_type": "code",
   "execution_count": 23,
   "id": "e9e99f24",
   "metadata": {},
   "outputs": [],
   "source": [
    "DROP TABLE IF EXISTS Jogador;\n",
    "\n",
    "CREATE TABLE Jogador (\n",
    "  nome VARCHAR(50) NOT NULL,\n",
    "  data_de_nascimento INTEGER NOT NULL,\n",
    "  altura INT,\n",
    "  mao_dominante VARCHAR(1),\n",
    "  local VARCHAR(3),\n",
    "  PRIMARY KEY(nome, data_de_nascimento)\n",
    ") AS SELECT\n",
    "  nome, data_de_nascimento, altura, mao_dominante, local\n",
    "FROM CSVREAD('../data/processed/men_players.csv');"
   ]
  },
  {
   "cell_type": "code",
   "execution_count": 24,
   "id": "c77e4ac5",
   "metadata": {},
   "outputs": [
    {
     "data": {
      "application/vnd.jupyter.widget-view+json": {
       "model_id": "7a17e474-8f2f-4fa1-b36f-af10a691b71b",
       "version_major": 2,
       "version_minor": 0
      },
      "method": "display_data"
     },
     "metadata": {},
     "output_type": "display_data"
    }
   ],
   "source": [
    "SELECT * FROM Jogador"
   ]
  },
  {
   "cell_type": "code",
   "execution_count": 25,
   "id": "5af9fd46",
   "metadata": {},
   "outputs": [],
   "source": [
    "DROP TABLE IF EXISTS Torneio;\n",
    "\n",
    "CREATE TABLE Torneio (\n",
    "  location VARCHAR(100),\n",
    "  surface VARCHAR(50),\n",
    "  data VARCHAR(50),\n",
    "  tournament VARCHAR(100),\n",
    "    \n",
    "  PRIMARY KEY(tournament, data),\n",
    ") AS SELECT\n",
    "  Location,Surface,Data,Tournament\n",
    "FROM CSVREAD('../data/processed/tournaments.csv');"
   ]
  },
  {
   "cell_type": "code",
   "execution_count": 26,
   "id": "3e13b38a",
   "metadata": {},
   "outputs": [
    {
     "data": {
      "application/vnd.jupyter.widget-view+json": {
       "model_id": "aeba83b4-60f5-4841-9110-91eb61f26c68",
       "version_major": 2,
       "version_minor": 0
      },
      "method": "display_data"
     },
     "metadata": {},
     "output_type": "display_data"
    }
   ],
   "source": [
    "SELECT * FROM Torneio"
   ]
  },
  {
   "cell_type": "code",
   "execution_count": 29,
   "id": "cf2f11d9",
   "metadata": {},
   "outputs": [],
   "source": [
    "DROP TABLE IF EXISTS Confronto;\n",
    "\n",
    "CREATE TABLE Confronto (\n",
    "  winner VARCHAR(100) NOT NULL,\n",
    "  loser VARCHAR(100) NOT NULL,\n",
    "  round VARCHAR(100) NOT NULL,\n",
    "  tournament VARCHAR(200),\n",
    "  data VARCHAR(50),\n",
    "  oddwinner FLOAT,\n",
    "  oddloser FLOAT,\n",
    "  setwinner FLOAT,\n",
    "  setloser FLOAT,\n",
    "  PRIMARY KEY(winner,loser,data),\n",
    "  FOREIGN KEY(tournament, data) REFERENCES Torneio(tournament, data)\n",
    ") AS SELECT\n",
    "  Winner, Loser, Round, Tournament, Data, AvgW, AvgL,Wsets, Lsets\n",
    "FROM CSVREAD('../data/processed/confrontations_since_2010.csv');"
   ]
  },
  {
   "cell_type": "code",
   "execution_count": 30,
   "id": "3496d046",
   "metadata": {},
   "outputs": [
    {
     "data": {
      "application/vnd.jupyter.widget-view+json": {
       "model_id": "a1e60802-cd33-4028-a5ab-7e269a382111",
       "version_major": 2,
       "version_minor": 0
      },
      "method": "display_data"
     },
     "metadata": {},
     "output_type": "display_data"
    }
   ],
   "source": [
    "SELECT * FROM Confronto"
   ]
  },
  {
   "cell_type": "code",
   "execution_count": 31,
   "id": "a10a9f5e",
   "metadata": {},
   "outputs": [
    {
     "data": {
      "application/vnd.jupyter.widget-view+json": {
       "model_id": "9ae48d21-4d23-41eb-8e9a-291b48e8d76b",
       "version_major": 2,
       "version_minor": 0
      },
      "method": "display_data"
     },
     "metadata": {},
     "output_type": "display_data"
    }
   ],
   "source": [
    "SELECT nome FROM Jogador\n",
    "WHERE mao_dominante = 'L'\n",
    "AND local = 'BRA'"
   ]
  },
  {
   "cell_type": "code",
   "execution_count": 37,
   "id": "d4f3cc2c",
   "metadata": {},
   "outputs": [
    {
     "data": {
      "application/vnd.jupyter.widget-view+json": {
       "model_id": "9298d3eb-bdc0-4385-aaa1-eafe5ca4ecc9",
       "version_major": 2,
       "version_minor": 0
      },
      "method": "display_data"
     },
     "metadata": {},
     "output_type": "display_data"
    }
   ],
   "source": [
    "SELECT mao_dominante, COUNT(*) num \n",
    "FROM Jogador  \n",
    "WHERE local = 'BRA'\n",
    "GROUP BY mao_dominante"
   ]
  },
  {
   "cell_type": "code",
   "execution_count": 38,
   "id": "615b2439",
   "metadata": {},
   "outputs": [
    {
     "data": {
      "application/vnd.jupyter.widget-view+json": {
       "model_id": "d44109e3-cfe9-4ddf-b175-1124ba9a772e",
       "version_major": 2,
       "version_minor": 0
      },
      "method": "display_data"
     },
     "metadata": {},
     "output_type": "display_data"
    }
   ],
   "source": [
    "SELECT surface, COUNT(*) num \n",
    "FROM Torneio  \n",
    "GROUP BY surface"
   ]
  },
  {
   "cell_type": "code",
   "execution_count": 62,
   "id": "05e4fdf1",
   "metadata": {},
   "outputs": [],
   "source": [
    "DROP VIEW IF EXISTS TOP3;\n",
    "CREATE VIEW TOP3 AS \n",
    "SELECT * \n",
    "FROM Confronto\n",
    "WHERE winner = 'Nadal R.'\n",
    "OR winner = 'Federer R.'\n",
    "OR winner = 'Djokovic N.'"
   ]
  },
  {
   "cell_type": "code",
   "execution_count": 63,
   "id": "74abac3d",
   "metadata": {},
   "outputs": [
    {
     "data": {
      "application/vnd.jupyter.widget-view+json": {
       "model_id": "30b41883-2700-4821-bcdb-317781f8797c",
       "version_major": 2,
       "version_minor": 0
      },
      "method": "display_data"
     },
     "metadata": {},
     "output_type": "display_data"
    }
   ],
   "source": [
    "select * from top3"
   ]
  },
  {
   "cell_type": "code",
   "execution_count": 85,
   "id": "2adfcb83",
   "metadata": {},
   "outputs": [
    {
     "data": {
      "application/vnd.jupyter.widget-view+json": {
       "model_id": "2abea6f2-47eb-43ee-b4f9-2a99e8939b91",
       "version_major": 2,
       "version_minor": 0
      },
      "method": "display_data"
     },
     "metadata": {},
     "output_type": "display_data"
    }
   ],
   "source": [
    "SELECT winner, TOP3.tournament, count(*)num \n",
    "FROM TOP3\n",
    "GROUP BY TOP3.tournament, winner\n",
    "ORDER BY num desc"
   ]
  },
  {
   "cell_type": "code",
   "execution_count": 90,
   "id": "69398419",
   "metadata": {},
   "outputs": [
    {
     "data": {
      "text/plain": [
       "211"
      ]
     },
     "execution_count": 90,
     "metadata": {},
     "output_type": "execute_result"
    }
   ],
   "source": [
    "SELECT MAX(altura)\n",
    "FROM Jogador"
   ]
  },
  {
   "cell_type": "code",
   "execution_count": 98,
   "id": "9c634843",
   "metadata": {},
   "outputs": [
    {
     "data": {
      "application/vnd.jupyter.widget-view+json": {
       "model_id": "f993e811-b230-4d11-aa96-b8672dcc8439",
       "version_major": 2,
       "version_minor": 0
      },
      "method": "display_data"
     },
     "metadata": {},
     "output_type": "display_data"
    }
   ],
   "source": [
    "SELECT *\n",
    "FROM Jogador\n",
    "WHERE altura = (SELECT MIN(altura) FROM Jogador)\n",
    "OR altura = SELECT MAX(altura) FROM Jogador"
   ]
  },
  {
   "cell_type": "code",
   "execution_count": 102,
   "id": "195ee3bd",
   "metadata": {},
   "outputs": [
    {
     "data": {
      "application/vnd.jupyter.widget-view+json": {
       "model_id": "c2eefe88-34bf-4ccd-aeba-d40168dfd09b",
       "version_major": 2,
       "version_minor": 0
      },
      "method": "display_data"
     },
     "metadata": {},
     "output_type": "display_data"
    }
   ],
   "source": [
    "SELECT WINNER, COUNT(*) NUM\n",
    "FROM CONFRONTO\n",
    "WHERE WINNER = 'Rochus O.'\n",
    "OR WINNER = 'Opelka R.'\n",
    "GROUP BY WINNER"
   ]
  },
  {
   "cell_type": "code",
   "execution_count": 103,
   "id": "cbf5c164",
   "metadata": {},
   "outputs": [
    {
     "data": {
      "application/vnd.jupyter.widget-view+json": {
       "model_id": "d61d40e2-7274-4b53-82d8-250179fefb3a",
       "version_major": 2,
       "version_minor": 0
      },
      "method": "display_data"
     },
     "metadata": {},
     "output_type": "display_data"
    }
   ],
   "source": [
    "SELECT LOSER, COUNT(*) NUM\n",
    "FROM CONFRONTO\n",
    "WHERE LOSER = 'Rochus O.'\n",
    "OR LOSER = 'Opelka R.'\n",
    "GROUP BY LOSER"
   ]
  },
  {
   "cell_type": "code",
   "execution_count": null,
   "id": "54524b59",
   "metadata": {},
   "outputs": [],
   "source": []
  }
 ],
 "metadata": {
  "kernelspec": {
   "display_name": "SQL",
   "language": "SQL",
   "name": "sql"
  },
  "language_info": {
   "codemirror_mode": "sql",
   "file_extension": ".sql",
   "mimetype": "",
   "name": "SQL",
   "nbconverter_exporter": "",
   "version": ""
  },
  "toc": {
   "base_numbering": 1,
   "nav_menu": {},
   "number_sections": false,
   "sideBar": false,
   "skip_h1_title": false,
   "title_cell": "Table of Contents",
   "title_sidebar": "Contents",
   "toc_cell": false,
   "toc_position": {},
   "toc_section_display": false,
   "toc_window_display": false
  }
 },
 "nbformat": 4,
 "nbformat_minor": 5
}

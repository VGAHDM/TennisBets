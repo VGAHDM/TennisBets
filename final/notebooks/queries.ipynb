{
 "cells": [
  {
   "cell_type": "markdown",
   "id": "1bb85829",
   "metadata": {},
   "source": [
    "## CONSULTAS NO DATASET"
   ]
  },
  {
   "cell_type": "code",
   "execution_count": 9,
   "id": "c07d67aa",
   "metadata": {},
   "outputs": [],
   "source": [
    "%defaultDatasource jdbc:h2:mem:db"
   ]
  },
  {
   "cell_type": "code",
   "execution_count": 18,
   "id": "e9e99f24",
   "metadata": {},
   "outputs": [],
   "source": [
    "DROP TABLE IF EXISTS Jogador;\n",
    "\n",
    "CREATE TABLE Jogador (\n",
    "  nome VARCHAR(50) NOT NULL,\n",
    "  data_de_nascimento INTEGER NOT NULL,\n",
    "  altura INT,\n",
    "  mao_dominante VARCHAR(1),\n",
    "  local VARCHAR(3),\n",
    "  PRIMARY KEY(nome, data_de_nascimento)\n",
    ") AS SELECT\n",
    "  name,date_of_birth,height,hand,country\n",
    "FROM CSVREAD('../data/processed/men_players.csv');"
   ]
  },
  {
   "cell_type": "code",
   "execution_count": 19,
   "id": "c77e4ac5",
   "metadata": {},
   "outputs": [
    {
     "data": {
      "application/vnd.jupyter.widget-view+json": {
       "model_id": "2034db2e-cb18-4a57-ae64-187e36a4fa3a",
       "version_major": 2,
       "version_minor": 0
      },
      "method": "display_data"
     },
     "metadata": {},
     "output_type": "display_data"
    }
   ],
   "source": [
    "SELECT * FROM Jogador"
   ]
  },
  {
   "cell_type": "code",
   "execution_count": 29,
   "id": "5af9fd46",
   "metadata": {},
   "outputs": [],
   "source": [
    "DROP TABLE IF EXISTS Torneio;\n",
    "\n",
    "CREATE TABLE Torneio (\n",
    "  location VARCHAR(100),\n",
    "  surface VARCHAR(50),\n",
    "  year INTEGER,\n",
    "  tournament VARCHAR(100),\n",
    "    \n",
    "  PRIMARY KEY(tournament, year),\n",
    ") AS SELECT\n",
    "  Location,Surface,Year,Tournament\n",
    "FROM CSVREAD('../data/processed/tournaments.csv');"
   ]
  },
  {
   "cell_type": "code",
   "execution_count": 30,
   "id": "3e13b38a",
   "metadata": {},
   "outputs": [
    {
     "data": {
      "application/vnd.jupyter.widget-view+json": {
       "model_id": "0b821796-e97d-45ad-8673-309628b93fc3",
       "version_major": 2,
       "version_minor": 0
      },
      "method": "display_data"
     },
     "metadata": {},
     "output_type": "display_data"
    }
   ],
   "source": [
    "SELECT * FROM Torneio"
   ]
  },
  {
   "cell_type": "code",
   "execution_count": 41,
   "id": "cf2f11d9",
   "metadata": {},
   "outputs": [],
   "source": [
    "DROP TABLE IF EXISTS Confronto;\n",
    "\n",
    "CREATE TABLE Confronto (\n",
    "  winner VARCHAR(100) NOT NULL,\n",
    "  loser VARCHAR(100) NOT NULL,\n",
    "  round VARCHAR(100) NOT NULL,\n",
    "  tournament VARCHAR(200),\n",
    "  data VARCHAR(50),\n",
    "  oddwinner FLOAT,\n",
    "  oddloser FLOAT,\n",
    "  setwinner FLOAT,\n",
    "  setloser FLOAT,\n",
    "  year INTEGER,\n",
    "  PRIMARY KEY(winner,loser,data),\n",
    "  FOREIGN KEY(winner) REFERENCES Jogador(nome),\n",
    "  FOREIGN KEY(loser) REFERENCES Jogador(nome),\n",
    "  FOREIGN KEY(tournament, year) REFERENCES Torneio(tournament, year)\n",
    ") AS SELECT\n",
    "  Winner, Loser, Round, Tournament, Data, AvgW, AvgL,Wsets, Lsets, Year\n",
    "FROM CSVREAD('../data/processed/confrontations_since_2010.csv');"
   ]
  },
  {
   "cell_type": "code",
   "execution_count": 42,
   "id": "3496d046",
   "metadata": {},
   "outputs": [
    {
     "data": {
      "application/vnd.jupyter.widget-view+json": {
       "model_id": "aabd90ce-5457-4cdc-a39a-d7b89cd2a17f",
       "version_major": 2,
       "version_minor": 0
      },
      "method": "display_data"
     },
     "metadata": {},
     "output_type": "display_data"
    }
   ],
   "source": [
    "SELECT * FROM Confronto"
   ]
  },
  {
   "cell_type": "code",
   "execution_count": 59,
   "id": "8666386e",
   "metadata": {},
   "outputs": [],
   "source": [
    "DROP TABLE IF EXISTS Historico;\n",
    "\n",
    "CREATE TABLE Historico (\n",
    "  name VARCHAR(100) NOT NULL,\n",
    "  followers_2019 INTEGER,\n",
    "  followers_2021 INTEGER,\n",
    "  ano_2010 INTEGER,\n",
    "  ano_2011 INTEGER,\n",
    "  ano_2012 INTEGER,\n",
    "  ano_2013 INTEGER,\n",
    "  ano_2014 INTEGER,\n",
    "  ano_2015 INTEGER,\n",
    "  ano_2016 INTEGER,\n",
    "  ano_2017 INTEGER,\n",
    "  ano_2018 INTEGER,\n",
    "  ano_2019 INTEGER,\n",
    "  ano_2020 INTEGER,\n",
    "  PRIMARY KEY(name),\n",
    "  FOREIGN KEY(name) REFERENCES Jogador(nome),\n",
    ") AS SELECT\n",
    "  name,followers_2019,followers_2021,2010,2011,2012,2013,2014,2015,2016,2017,2018,2019,2020\n",
    "FROM CSVREAD('../data/processed/history.csv');\n"
   ]
  },
  {
   "cell_type": "code",
   "execution_count": 60,
   "id": "84171611",
   "metadata": {},
   "outputs": [
    {
     "data": {
      "application/vnd.jupyter.widget-view+json": {
       "model_id": "d5f32626-a094-4238-9839-f660b73dd653",
       "version_major": 2,
       "version_minor": 0
      },
      "method": "display_data"
     },
     "metadata": {},
     "output_type": "display_data"
    }
   ],
   "source": [
    "SELECT * FROM Historico"
   ]
  },
  {
   "cell_type": "code",
   "execution_count": 43,
   "id": "a10a9f5e",
   "metadata": {},
   "outputs": [
    {
     "data": {
      "application/vnd.jupyter.widget-view+json": {
       "model_id": "27aa42c3-5c1e-46d3-b027-616cacab38c5",
       "version_major": 2,
       "version_minor": 0
      },
      "method": "display_data"
     },
     "metadata": {},
     "output_type": "display_data"
    }
   ],
   "source": [
    "SELECT nome FROM Jogador\n",
    "WHERE mao_dominante = 'L'\n",
    "AND local = 'BRA'"
   ]
  },
  {
   "cell_type": "code",
   "execution_count": 44,
   "id": "d4f3cc2c",
   "metadata": {},
   "outputs": [
    {
     "data": {
      "application/vnd.jupyter.widget-view+json": {
       "model_id": "bcd56afe-10d0-44de-ac5f-8311b74cef4e",
       "version_major": 2,
       "version_minor": 0
      },
      "method": "display_data"
     },
     "metadata": {},
     "output_type": "display_data"
    }
   ],
   "source": [
    "SELECT mao_dominante, COUNT(*) num \n",
    "FROM Jogador  \n",
    "WHERE local = 'BRA'\n",
    "GROUP BY mao_dominante"
   ]
  },
  {
   "cell_type": "code",
   "execution_count": 45,
   "id": "615b2439",
   "metadata": {},
   "outputs": [
    {
     "data": {
      "application/vnd.jupyter.widget-view+json": {
       "model_id": "d54959bc-aaac-4c24-b139-6fd52f1db1ff",
       "version_major": 2,
       "version_minor": 0
      },
      "method": "display_data"
     },
     "metadata": {},
     "output_type": "display_data"
    }
   ],
   "source": [
    "SELECT surface, COUNT(*) num \n",
    "FROM Torneio  \n",
    "GROUP BY surface"
   ]
  },
  {
   "cell_type": "code",
   "execution_count": 46,
   "id": "05e4fdf1",
   "metadata": {},
   "outputs": [],
   "source": [
    "DROP VIEW IF EXISTS TOP3;\n",
    "CREATE VIEW TOP3 AS \n",
    "SELECT * \n",
    "FROM Confronto\n",
    "WHERE winner = 'Nadal R.'\n",
    "OR winner = 'Federer R.'\n",
    "OR winner = 'Djokovic N.'"
   ]
  },
  {
   "cell_type": "code",
   "execution_count": 47,
   "id": "74abac3d",
   "metadata": {},
   "outputs": [
    {
     "data": {
      "application/vnd.jupyter.widget-view+json": {
       "model_id": "8c78ddbc-7c23-4d13-bcdf-a3e3e3b6ca19",
       "version_major": 2,
       "version_minor": 0
      },
      "method": "display_data"
     },
     "metadata": {},
     "output_type": "display_data"
    }
   ],
   "source": [
    "select * from top3"
   ]
  },
  {
   "cell_type": "code",
   "execution_count": 48,
   "id": "2adfcb83",
   "metadata": {},
   "outputs": [
    {
     "data": {
      "application/vnd.jupyter.widget-view+json": {
       "model_id": "fbbb97c3-eb79-47c1-9179-c16196bd5c87",
       "version_major": 2,
       "version_minor": 0
      },
      "method": "display_data"
     },
     "metadata": {},
     "output_type": "display_data"
    }
   ],
   "source": [
    "SELECT winner, TOP3.tournament, count(*)num \n",
    "FROM TOP3\n",
    "GROUP BY TOP3.tournament, winner\n",
    "ORDER BY num desc"
   ]
  },
  {
   "cell_type": "code",
   "execution_count": 49,
   "id": "69398419",
   "metadata": {},
   "outputs": [
    {
     "data": {
      "text/plain": [
       "211"
      ]
     },
     "execution_count": 49,
     "metadata": {},
     "output_type": "execute_result"
    }
   ],
   "source": [
    "SELECT MAX(altura)\n",
    "FROM Jogador"
   ]
  },
  {
   "cell_type": "code",
   "execution_count": 50,
   "id": "9c634843",
   "metadata": {},
   "outputs": [
    {
     "data": {
      "application/vnd.jupyter.widget-view+json": {
       "model_id": "d960364a-71eb-4518-9353-d15f68f04e49",
       "version_major": 2,
       "version_minor": 0
      },
      "method": "display_data"
     },
     "metadata": {},
     "output_type": "display_data"
    }
   ],
   "source": [
    "SELECT *\n",
    "FROM Jogador\n",
    "WHERE altura = (SELECT MIN(altura) FROM Jogador)\n",
    "OR altura = SELECT MAX(altura) FROM Jogador"
   ]
  },
  {
   "cell_type": "code",
   "execution_count": 51,
   "id": "195ee3bd",
   "metadata": {},
   "outputs": [
    {
     "data": {
      "application/vnd.jupyter.widget-view+json": {
       "model_id": "03fc59b2-90aa-4c44-b4ba-4dc834f2c30e",
       "version_major": 2,
       "version_minor": 0
      },
      "method": "display_data"
     },
     "metadata": {},
     "output_type": "display_data"
    }
   ],
   "source": [
    "SELECT WINNER, COUNT(*) NUM\n",
    "FROM CONFRONTO\n",
    "WHERE WINNER = 'Rochus O.'\n",
    "OR WINNER = 'Opelka R.'\n",
    "GROUP BY WINNER"
   ]
  },
  {
   "cell_type": "code",
   "execution_count": 52,
   "id": "cbf5c164",
   "metadata": {},
   "outputs": [
    {
     "data": {
      "application/vnd.jupyter.widget-view+json": {
       "model_id": "5d63197a-e7fa-49b2-9ce2-091d53ab819e",
       "version_major": 2,
       "version_minor": 0
      },
      "method": "display_data"
     },
     "metadata": {},
     "output_type": "display_data"
    }
   ],
   "source": [
    "SELECT LOSER, COUNT(*) NUM\n",
    "FROM CONFRONTO\n",
    "WHERE LOSER = 'Rochus O.'\n",
    "OR LOSER = 'Opelka R.'\n",
    "GROUP BY LOSER"
   ]
  },
  {
   "cell_type": "code",
   "execution_count": null,
   "id": "54524b59",
   "metadata": {},
   "outputs": [],
   "source": [
    "SELECT PLAYER"
   ]
  },
  {
   "cell_type": "code",
   "execution_count": null,
   "id": "dad89be8",
   "metadata": {},
   "outputs": [],
   "source": []
  }
 ],
 "metadata": {
  "kernelspec": {
   "display_name": "SQL",
   "language": "SQL",
   "name": "sql"
  },
  "language_info": {
   "codemirror_mode": "sql",
   "file_extension": ".sql",
   "mimetype": "",
   "name": "SQL",
   "nbconverter_exporter": "",
   "version": ""
  },
  "toc": {
   "base_numbering": 1,
   "nav_menu": {},
   "number_sections": false,
   "sideBar": false,
   "skip_h1_title": false,
   "title_cell": "Table of Contents",
   "title_sidebar": "Contents",
   "toc_cell": false,
   "toc_position": {},
   "toc_section_display": false,
   "toc_window_display": false
  }
 },
 "nbformat": 4,
 "nbformat_minor": 5
}

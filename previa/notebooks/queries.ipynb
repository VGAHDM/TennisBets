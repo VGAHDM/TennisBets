{
 "cells": [
  {
   "cell_type": "markdown",
   "id": "1bb85829",
   "metadata": {},
   "source": [
    "## Queries"
   ]
  },
  {
   "cell_type": "code",
   "execution_count": 7,
   "id": "c07d67aa",
   "metadata": {},
   "outputs": [],
   "source": [
    "%defaultDatasource jdbc:h2:mem:db"
   ]
  },
  {
   "cell_type": "code",
   "execution_count": 10,
   "id": "e9e99f24",
   "metadata": {},
   "outputs": [],
   "source": [
    "DROP TABLE IF EXISTS Jogador;\n",
    "\n",
    "CREATE TABLE Jogador (\n",
    "  nome VARCHAR(50) NOT NULL,\n",
    "  data_de_nascimento INTEGER NOT NULL,\n",
    "  altura INT,\n",
    "  mao_dominante VARCHAR(1),\n",
    "  local VARCHAR(3),\n",
    "  PRIMARY KEY(nome, data_de_nascimento)\n",
    ") AS SELECT\n",
    "  nome, data_de_nascimento, altura, mao_dominante, local\n",
    "FROM CSVREAD('../data/processed/men_players.csv');"
   ]
  },
  {
   "cell_type": "code",
   "execution_count": 11,
   "id": "69a51e2c",
   "metadata": {},
   "outputs": [
    {
     "data": {
      "application/vnd.jupyter.widget-view+json": {
       "model_id": "1a160450-df1a-4f0e-b410-013ca75eb125",
       "version_major": 2,
       "version_minor": 0
      },
      "method": "display_data"
     },
     "metadata": {},
     "output_type": "display_data"
    }
   ],
   "source": [
    "SELECT * FROM Jogador"
   ]
  },
  {
   "cell_type": "code",
   "execution_count": null,
   "id": "9c318f4f",
   "metadata": {},
   "outputs": [],
   "source": []
  },
  {
   "cell_type": "code",
   "execution_count": null,
   "id": "9301434f",
   "metadata": {},
   "outputs": [],
   "source": [
    "DROP TABLE IF EXISTS Confronto;\n",
    "\n",
    "CREATE TABLE Confronto (\n",
    "  winner VARCHAR(50) NOT NULL,\n",
    "  loser VARCHAR(50) NOT NULL,\n",
    "  round VARCHAR(50) NOT NULL,\n",
    "  location VARCHAR(50),\n",
    "  data VARCHAR(50),\n",
    "  oddwinner FLOAT,\n",
    "  oddloser FLOAT,\n",
    "  setwinner INTEGER,\n",
    "  setloser INTEGER,\n",
    "  PRIMARY KEY(winner,loser,round),\n",
    "  FOREIGN KEY(winner,loser) REFERENCES Jogador(nome),\n",
    "  FOREIGN KEY(location, data) REFERENCES Torneio(location, data)\n",
    ") AS SELECT\n",
    "  Winner, Loser, Round, Location, Data, AvgW, AvgL,Wsets, Lsets\n",
    "FROM CSVREAD('../data/processed/men_players.csv');"
   ]
  }
 ],
 "metadata": {
  "kernelspec": {
   "display_name": "SQL",
   "language": "SQL",
   "name": "sql"
  },
  "language_info": {
   "codemirror_mode": "sql",
   "file_extension": ".sql",
   "mimetype": "",
   "name": "SQL",
   "nbconverter_exporter": "",
   "version": ""
  },
  "toc": {
   "base_numbering": 1,
   "nav_menu": {},
   "number_sections": false,
   "sideBar": false,
   "skip_h1_title": false,
   "title_cell": "Table of Contents",
   "title_sidebar": "Contents",
   "toc_cell": false,
   "toc_position": {},
   "toc_section_display": false,
   "toc_window_display": false
  }
 },
 "nbformat": 4,
 "nbformat_minor": 5
}
